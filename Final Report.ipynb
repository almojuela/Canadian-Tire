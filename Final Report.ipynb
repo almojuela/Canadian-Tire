{
 "cells": [
  {
   "cell_type": "markdown",
   "metadata": {},
   "source": [
    "# Prospectus\n",
    "\n",
    "For this final assignment, I will be focusing on the Canadian Tire Data from the months of May, June, and December. From analyzing the data given, these three months have shown to be the most popular months for Canadian Tire to be mentioned in tweets out of both years. June, consisting of 2940 mentions in both years, May, consisting of 2465 mentions, and December with Canadian Tire being mentioned or relating to it 2417 times. By analyzing the most popular months of both years, we are able to gather enough data to determine if the change of the Canadian Tire slogan has shifted tweets to be more positive or not.\n",
    "  \n",
    "Some of the problems with the data, however, circle around the notion that there are a number of columns that are empty for quite some time, making it hard for the reader to read some of the information. There also appears to be various columns that do not have much relevance to the data needed, and will most likely be taken out later on. For example, the 'user_id' column contains information about the user's ID number. Although this can help determine who a user might be, the data also provides their username, as well as their screen name, thereby  removing any relevance the user_id column may carry."
   ]
  },
  {
   "cell_type": "code",
   "execution_count": 1,
   "metadata": {
    "collapsed": false
   },
   "outputs": [],
   "source": [
    "# importing things\n",
    "import pandas as pd\n",
    "import numpy as np\n",
    "\n",
    "# this creates a DataFrame filled with all of the information from the CSV file\n",
    "tweets = pd.read_csv(\"data/canadian-tire_cct490.csv\", index_col=False)"
   ]
  },
  {
   "cell_type": "code",
   "execution_count": 2,
   "metadata": {
    "collapsed": false
   },
   "outputs": [
    {
     "data": {
      "text/plain": [
       "Index(['id', 'created_at', 'text', 'user_id', 'user_name', 'user_screenname',\n",
       "       'user_location', 'rt_id', 'rt_created_at', 'rt_text', 'rt_user_id',\n",
       "       'rt_user_name', 'rt_user_screenname', 'rt_user_location', 'positive',\n",
       "       'negative', 'rt_positive', 'rt_negative'],\n",
       "      dtype='object')"
      ]
     },
     "execution_count": 2,
     "metadata": {},
     "output_type": "execute_result"
    }
   ],
   "source": [
    "tweets.columns\n",
    "# here, we're just looking at what kind of columns are in the file itself.\n",
    "#there's quite a lot, and most of these are things we probably won't need."
   ]
  },
  {
   "cell_type": "code",
   "execution_count": 3,
   "metadata": {
    "collapsed": false
   },
   "outputs": [
    {
     "data": {
      "text/plain": [
       "0    2013-01-09 05:38:29\n",
       "1    2013-01-07 01:30:15\n",
       "Name: created_at, dtype: object"
      ]
     },
     "execution_count": 3,
     "metadata": {},
     "output_type": "execute_result"
    }
   ],
   "source": [
    "tweets['created_at'].head(2)\n",
    "#this shows us the type of text that is shown in the 'created at' column\n",
    "    #since we're going to be focusing on the date, we're going to have to\n",
    "    #figure out a way to separate the time and date from each other."
   ]
  },
  {
   "cell_type": "code",
   "execution_count": 4,
   "metadata": {
    "collapsed": false
   },
   "outputs": [],
   "source": [
    "# here, we are taking the 'created at' column and splitting the date and time\n",
    "tweets['created_at'].str.split(expand = True)\n",
    "# this here, creates a column called 'date'\n",
    "tweets['date'] = tweets['created_at'].str.split(expand = True)[0]\n",
    "# this creates a column that just looks at the year and day\n",
    "tweets['month'] = tweets['date'].str.slice(0, 7)"
   ]
  },
  {
   "cell_type": "code",
   "execution_count": 5,
   "metadata": {
    "collapsed": false
   },
   "outputs": [
    {
     "data": {
      "text/plain": [
       "(1380, 20)"
      ]
     },
     "execution_count": 5,
     "metadata": {},
     "output_type": "execute_result"
    }
   ],
   "source": [
    "may_2013 = tweets[tweets['month'] == '2013-05']\n",
    "may_2013.shape # this shows how many tweets were made in May 2013"
   ]
  },
  {
   "cell_type": "code",
   "execution_count": 6,
   "metadata": {
    "collapsed": false
   },
   "outputs": [],
   "source": [
    "may2013 = may_2013[['month','text', 'positive', 'negative']]\n",
    "may13_positive = may2013[may2013['positive'] > 0]"
   ]
  },
  {
   "cell_type": "code",
   "execution_count": 7,
   "metadata": {
    "collapsed": false
   },
   "outputs": [
    {
     "data": {
      "text/plain": [
       "(471, 4)"
      ]
     },
     "execution_count": 7,
     "metadata": {},
     "output_type": "execute_result"
    }
   ],
   "source": [
    "may13_positive.shape \n",
    "# this shows us just how many tweets, out of 1380, were positive"
   ]
  },
  {
   "cell_type": "code",
   "execution_count": 8,
   "metadata": {
    "collapsed": false
   },
   "outputs": [
    {
     "data": {
      "text/plain": [
       "(173, 4)"
      ]
     },
     "execution_count": 8,
     "metadata": {},
     "output_type": "execute_result"
    }
   ],
   "source": [
    "may13_negative = may2013[may2013['negative'] > 0]\n",
    "may13_negative.shape\n",
    "# this shows us just how many tweets, out of the 1380, were negative"
   ]
  },
  {
   "cell_type": "markdown",
   "metadata": {
    "collapsed": true
   },
   "source": [
    "# Midterm Report\n",
    "\n",
    "One of the biggest problems I was having was figuring out a way to get the date and time to split. Thankfully, Professor Hanna had helped me out a bit there, showing how to split the date from the time, and went further into explaining how to just get the year and month.\n",
    "\n",
    "After being able to find out how to do those two things, I was able to get how to specify which months I want to look at, and see just how many positive and negative tweets were mentioned in a specific month, just like I've done above.\n",
    "\n",
    "All that is needed to do now, is to go through the rest of the months (May 2014, June 2013 & 2014, December 2013 & 2014). I'll also take a look at whether or not anyone, in 2014, had mentioned the new slogan, and whether or not it had received a positive or negative feedback.  "
   ]
  },
  {
   "cell_type": "code",
   "execution_count": 10,
   "metadata": {
    "collapsed": false
   },
   "outputs": [
    {
     "data": {
      "text/plain": [
       "(2087, 20)"
      ]
     },
     "execution_count": 10,
     "metadata": {},
     "output_type": "execute_result"
    }
   ],
   "source": [
    "june_2013 = tweets[tweets['month'] == '2013-06']\n",
    "june_2013.shape # this shows how many tweets were made in June 2013"
   ]
  },
  {
   "cell_type": "code",
   "execution_count": 11,
   "metadata": {
    "collapsed": true
   },
   "outputs": [],
   "source": [
    "june2013 = june_2013[['month','text', 'positive', 'negative']]\n",
    "june13_positive = june2013[june2013['positive'] > 0]"
   ]
  },
  {
   "cell_type": "code",
   "execution_count": 15,
   "metadata": {
    "collapsed": false
   },
   "outputs": [
    {
     "data": {
      "text/plain": [
       "(805, 4)"
      ]
     },
     "execution_count": 15,
     "metadata": {},
     "output_type": "execute_result"
    }
   ],
   "source": [
    "june13_positive.shape \n",
    "# this shows us just how many tweets, out of 2087, were positive"
   ]
  },
  {
   "cell_type": "code",
   "execution_count": 23,
   "metadata": {
    "collapsed": false
   },
   "outputs": [
    {
     "data": {
      "text/plain": [
       "(255, 4)"
      ]
     },
     "execution_count": 23,
     "metadata": {},
     "output_type": "execute_result"
    }
   ],
   "source": [
    "june13_negative = june2013[june2013['negative'] > 0]\n",
    "june13_negative.shape # this will show how many tweets were negative"
   ]
  },
  {
   "cell_type": "markdown",
   "metadata": {},
   "source": [
    "As we can see here, out of the 2087 tweets that were made in regards to Canadian Tire, 805 of them were displaying positive comments towards the company, while 255 depicted negative comments. The remaining 1027 tweets, however, are tweets that are neither positive or negative towards the company. This means that majority of the tweets are most likely mentioning Canadian Tire, rather than actually commenting on the company itself."
   ]
  },
  {
   "cell_type": "code",
   "execution_count": 13,
   "metadata": {
    "collapsed": false
   },
   "outputs": [
    {
     "data": {
      "text/plain": [
       "(1272, 20)"
      ]
     },
     "execution_count": 13,
     "metadata": {},
     "output_type": "execute_result"
    }
   ],
   "source": [
    "december_2013 = tweets[tweets['month'] == '2013-12']\n",
    "december_2013.shape # this shows how many tweets were made in December 2013"
   ]
  },
  {
   "cell_type": "code",
   "execution_count": 24,
   "metadata": {
    "collapsed": false
   },
   "outputs": [
    {
     "data": {
      "text/plain": [
       "(367, 4)"
      ]
     },
     "execution_count": 24,
     "metadata": {},
     "output_type": "execute_result"
    }
   ],
   "source": [
    "december2013 = december_2013[['month','text', 'positive', 'negative']]\n",
    "december13_positive = december2013[december2013['positive'] > 0]\n",
    "december13_positive.shape \n",
    "# this shows us just how many tweets, out of 1272, were positive"
   ]
  },
  {
   "cell_type": "code",
   "execution_count": 26,
   "metadata": {
    "collapsed": false
   },
   "outputs": [
    {
     "data": {
      "text/plain": [
       "(206, 4)"
      ]
     },
     "execution_count": 26,
     "metadata": {},
     "output_type": "execute_result"
    }
   ],
   "source": [
    "december13_negative = december2013[december2013['negative'] > 0]\n",
    "december13_negative.shape # this will show how many tweets were negative"
   ]
  },
  {
   "cell_type": "code",
   "execution_count": 17,
   "metadata": {
    "collapsed": false
   },
   "outputs": [
    {
     "data": {
      "text/plain": [
       "(1085, 20)"
      ]
     },
     "execution_count": 17,
     "metadata": {},
     "output_type": "execute_result"
    }
   ],
   "source": [
    "may_2014 = tweets[tweets['month'] == '2014-05']\n",
    "may_2014.shape # this shows how many tweets were made in May 2014"
   ]
  },
  {
   "cell_type": "code",
   "execution_count": 18,
   "metadata": {
    "collapsed": false
   },
   "outputs": [
    {
     "data": {
      "text/plain": [
       "(404, 4)"
      ]
     },
     "execution_count": 18,
     "metadata": {},
     "output_type": "execute_result"
    }
   ],
   "source": [
    "may2014 = may_2014[['month','text', 'positive', 'negative']]\n",
    "may14_positive = may2014[may2014['positive'] > 0]\n",
    "may14_positive.shape \n",
    "# this shows us just how many tweets, out of 1085, were positive"
   ]
  },
  {
   "cell_type": "code",
   "execution_count": 27,
   "metadata": {
    "collapsed": false
   },
   "outputs": [
    {
     "data": {
      "text/plain": [
       "(149, 4)"
      ]
     },
     "execution_count": 27,
     "metadata": {},
     "output_type": "execute_result"
    }
   ],
   "source": [
    "may14_negative = may2014[may2014['negative'] > 0]\n",
    "may14_negative.shape # this will show how many tweets were negative"
   ]
  },
  {
   "cell_type": "code",
   "execution_count": 19,
   "metadata": {
    "collapsed": false
   },
   "outputs": [
    {
     "data": {
      "text/plain": [
       "(853, 20)"
      ]
     },
     "execution_count": 19,
     "metadata": {},
     "output_type": "execute_result"
    }
   ],
   "source": [
    "june_2014 = tweets[tweets['month'] == '2014-06']\n",
    "june_2014.shape # this shows how many tweets were made in June 2014"
   ]
  },
  {
   "cell_type": "code",
   "execution_count": 20,
   "metadata": {
    "collapsed": false
   },
   "outputs": [
    {
     "data": {
      "text/plain": [
       "(307, 4)"
      ]
     },
     "execution_count": 20,
     "metadata": {},
     "output_type": "execute_result"
    }
   ],
   "source": [
    "june2014 = june_2014[['month','text', 'positive', 'negative']]\n",
    "june14_positive = june2014[june2014['positive'] > 0]\n",
    "june14_positive.shape \n",
    "# this shows us just how many tweets, out of 853, were positive"
   ]
  },
  {
   "cell_type": "code",
   "execution_count": 28,
   "metadata": {
    "collapsed": false
   },
   "outputs": [
    {
     "data": {
      "text/plain": [
       "(255, 4)"
      ]
     },
     "execution_count": 28,
     "metadata": {},
     "output_type": "execute_result"
    }
   ],
   "source": [
    "june14_negative = june2014[june2014['negative'] > 0]\n",
    "june13_negative.shape # this will show how many tweets were negative"
   ]
  },
  {
   "cell_type": "code",
   "execution_count": 21,
   "metadata": {
    "collapsed": false
   },
   "outputs": [
    {
     "data": {
      "text/plain": [
       "(1145, 20)"
      ]
     },
     "execution_count": 21,
     "metadata": {},
     "output_type": "execute_result"
    }
   ],
   "source": [
    "december_2014 = tweets[tweets['month'] == '2014-12']\n",
    "december_2014.shape # this shows how many tweets were made in December 2014"
   ]
  },
  {
   "cell_type": "code",
   "execution_count": 22,
   "metadata": {
    "collapsed": false
   },
   "outputs": [
    {
     "data": {
      "text/plain": [
       "(425, 4)"
      ]
     },
     "execution_count": 22,
     "metadata": {},
     "output_type": "execute_result"
    }
   ],
   "source": [
    "december2014 = december_2014[['month','text', 'positive', 'negative']]\n",
    "december14_positive = december2014[december2014['positive'] > 0]\n",
    "december14_positive.shape \n",
    "# this shows us just how many tweets, out of 1145, were positive"
   ]
  },
  {
   "cell_type": "code",
   "execution_count": 29,
   "metadata": {
    "collapsed": false
   },
   "outputs": [
    {
     "data": {
      "text/plain": [
       "(138, 4)"
      ]
     },
     "execution_count": 29,
     "metadata": {},
     "output_type": "execute_result"
    }
   ],
   "source": [
    "december14_negative = december2014[december2014['negative'] > 0]\n",
    "december14_negative.shape # this will show how many tweets were negative"
   ]
  }
 ],
 "metadata": {
  "anaconda-cloud": {},
  "kernelspec": {
   "display_name": "Python [Root]",
   "language": "python",
   "name": "Python [Root]"
  },
  "language_info": {
   "codemirror_mode": {
    "name": "ipython",
    "version": 3
   },
   "file_extension": ".py",
   "mimetype": "text/x-python",
   "name": "python",
   "nbconvert_exporter": "python",
   "pygments_lexer": "ipython3",
   "version": "3.5.2"
  }
 },
 "nbformat": 4,
 "nbformat_minor": 0
}
